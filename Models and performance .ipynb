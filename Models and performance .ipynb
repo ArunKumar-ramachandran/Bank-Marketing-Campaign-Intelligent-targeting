{
 "cells": [
  {
   "cell_type": "code",
   "execution_count": 1,
   "metadata": {},
   "outputs": [],
   "source": [
    "import numpy as np\n",
    "import pandas as pd\n",
    "import matplotlib.pyplot as plt\n",
    "import seaborn as sns"
   ]
  },
  {
   "cell_type": "code",
   "execution_count": 2,
   "metadata": {},
   "outputs": [],
   "source": [
    "df = pd.read_csv(\"Datapreprocessed.csv\")\n",
    "Original = df.copy()\n",
    "df.drop(\"Poutcome\", inplace = True , axis=1)"
   ]
  },
  {
   "cell_type": "code",
   "execution_count": 3,
   "metadata": {},
   "outputs": [
    {
     "data": {
      "text/html": [
       "<div>\n",
       "<style scoped>\n",
       "    .dataframe tbody tr th:only-of-type {\n",
       "        vertical-align: middle;\n",
       "    }\n",
       "\n",
       "    .dataframe tbody tr th {\n",
       "        vertical-align: top;\n",
       "    }\n",
       "\n",
       "    .dataframe thead th {\n",
       "        text-align: right;\n",
       "    }\n",
       "</style>\n",
       "<table border=\"1\" class=\"dataframe\">\n",
       "  <thead>\n",
       "    <tr style=\"text-align: right;\">\n",
       "      <th></th>\n",
       "      <th>Age</th>\n",
       "      <th>Education</th>\n",
       "      <th>Default</th>\n",
       "      <th>Balance</th>\n",
       "      <th>Housing</th>\n",
       "      <th>Loan</th>\n",
       "      <th>Duration</th>\n",
       "      <th>Campaign</th>\n",
       "      <th>Pdays</th>\n",
       "      <th>Previous</th>\n",
       "      <th>...</th>\n",
       "      <th>Job_umemployed</th>\n",
       "      <th>Job_entrepreneur</th>\n",
       "      <th>Job_housemaid</th>\n",
       "      <th>Married</th>\n",
       "      <th>divorced</th>\n",
       "      <th>Contact_cellular</th>\n",
       "      <th>Contact_telephone</th>\n",
       "      <th>Season_1</th>\n",
       "      <th>Season_2</th>\n",
       "      <th>First half of month</th>\n",
       "    </tr>\n",
       "  </thead>\n",
       "  <tbody>\n",
       "    <tr>\n",
       "      <td>0</td>\n",
       "      <td>59</td>\n",
       "      <td>2</td>\n",
       "      <td>0</td>\n",
       "      <td>2343</td>\n",
       "      <td>1</td>\n",
       "      <td>0</td>\n",
       "      <td>1042</td>\n",
       "      <td>1</td>\n",
       "      <td>-1</td>\n",
       "      <td>0</td>\n",
       "      <td>...</td>\n",
       "      <td>0</td>\n",
       "      <td>0</td>\n",
       "      <td>0</td>\n",
       "      <td>1</td>\n",
       "      <td>0</td>\n",
       "      <td>0</td>\n",
       "      <td>0</td>\n",
       "      <td>0</td>\n",
       "      <td>1</td>\n",
       "      <td>1</td>\n",
       "    </tr>\n",
       "    <tr>\n",
       "      <td>1</td>\n",
       "      <td>56</td>\n",
       "      <td>2</td>\n",
       "      <td>0</td>\n",
       "      <td>45</td>\n",
       "      <td>0</td>\n",
       "      <td>0</td>\n",
       "      <td>1467</td>\n",
       "      <td>1</td>\n",
       "      <td>-1</td>\n",
       "      <td>0</td>\n",
       "      <td>...</td>\n",
       "      <td>0</td>\n",
       "      <td>0</td>\n",
       "      <td>0</td>\n",
       "      <td>1</td>\n",
       "      <td>0</td>\n",
       "      <td>0</td>\n",
       "      <td>0</td>\n",
       "      <td>0</td>\n",
       "      <td>1</td>\n",
       "      <td>1</td>\n",
       "    </tr>\n",
       "    <tr>\n",
       "      <td>2</td>\n",
       "      <td>41</td>\n",
       "      <td>2</td>\n",
       "      <td>0</td>\n",
       "      <td>1270</td>\n",
       "      <td>1</td>\n",
       "      <td>0</td>\n",
       "      <td>1389</td>\n",
       "      <td>1</td>\n",
       "      <td>-1</td>\n",
       "      <td>0</td>\n",
       "      <td>...</td>\n",
       "      <td>0</td>\n",
       "      <td>0</td>\n",
       "      <td>0</td>\n",
       "      <td>1</td>\n",
       "      <td>0</td>\n",
       "      <td>0</td>\n",
       "      <td>0</td>\n",
       "      <td>0</td>\n",
       "      <td>1</td>\n",
       "      <td>1</td>\n",
       "    </tr>\n",
       "    <tr>\n",
       "      <td>3</td>\n",
       "      <td>55</td>\n",
       "      <td>2</td>\n",
       "      <td>0</td>\n",
       "      <td>2476</td>\n",
       "      <td>1</td>\n",
       "      <td>0</td>\n",
       "      <td>579</td>\n",
       "      <td>1</td>\n",
       "      <td>-1</td>\n",
       "      <td>0</td>\n",
       "      <td>...</td>\n",
       "      <td>0</td>\n",
       "      <td>0</td>\n",
       "      <td>0</td>\n",
       "      <td>1</td>\n",
       "      <td>0</td>\n",
       "      <td>0</td>\n",
       "      <td>0</td>\n",
       "      <td>0</td>\n",
       "      <td>1</td>\n",
       "      <td>1</td>\n",
       "    </tr>\n",
       "    <tr>\n",
       "      <td>4</td>\n",
       "      <td>54</td>\n",
       "      <td>3</td>\n",
       "      <td>0</td>\n",
       "      <td>184</td>\n",
       "      <td>0</td>\n",
       "      <td>0</td>\n",
       "      <td>673</td>\n",
       "      <td>2</td>\n",
       "      <td>-1</td>\n",
       "      <td>0</td>\n",
       "      <td>...</td>\n",
       "      <td>0</td>\n",
       "      <td>0</td>\n",
       "      <td>0</td>\n",
       "      <td>1</td>\n",
       "      <td>0</td>\n",
       "      <td>0</td>\n",
       "      <td>0</td>\n",
       "      <td>0</td>\n",
       "      <td>1</td>\n",
       "      <td>1</td>\n",
       "    </tr>\n",
       "  </tbody>\n",
       "</table>\n",
       "<p>5 rows × 29 columns</p>\n",
       "</div>"
      ],
      "text/plain": [
       "   Age  Education  Default  Balance  Housing  Loan  Duration  Campaign  Pdays  \\\n",
       "0   59          2        0     2343        1     0      1042         1     -1   \n",
       "1   56          2        0       45        0     0      1467         1     -1   \n",
       "2   41          2        0     1270        1     0      1389         1     -1   \n",
       "3   55          2        0     2476        1     0       579         1     -1   \n",
       "4   54          3        0      184        0     0       673         2     -1   \n",
       "\n",
       "   Previous  ...  Job_umemployed  Job_entrepreneur  Job_housemaid  Married  \\\n",
       "0         0  ...               0                 0              0        1   \n",
       "1         0  ...               0                 0              0        1   \n",
       "2         0  ...               0                 0              0        1   \n",
       "3         0  ...               0                 0              0        1   \n",
       "4         0  ...               0                 0              0        1   \n",
       "\n",
       "   divorced  Contact_cellular  Contact_telephone  Season_1  Season_2  \\\n",
       "0         0                 0                  0         0         1   \n",
       "1         0                 0                  0         0         1   \n",
       "2         0                 0                  0         0         1   \n",
       "3         0                 0                  0         0         1   \n",
       "4         0                 0                  0         0         1   \n",
       "\n",
       "   First half of month  \n",
       "0                    1  \n",
       "1                    1  \n",
       "2                    1  \n",
       "3                    1  \n",
       "4                    1  \n",
       "\n",
       "[5 rows x 29 columns]"
      ]
     },
     "execution_count": 3,
     "metadata": {},
     "output_type": "execute_result"
    }
   ],
   "source": [
    "df.head()"
   ]
  },
  {
   "cell_type": "code",
   "execution_count": 3,
   "metadata": {
    "scrolled": true
   },
   "outputs": [
    {
     "data": {
      "text/html": [
       "<div>\n",
       "<style scoped>\n",
       "    .dataframe tbody tr th:only-of-type {\n",
       "        vertical-align: middle;\n",
       "    }\n",
       "\n",
       "    .dataframe tbody tr th {\n",
       "        vertical-align: top;\n",
       "    }\n",
       "\n",
       "    .dataframe thead th {\n",
       "        text-align: right;\n",
       "    }\n",
       "</style>\n",
       "<table border=\"1\" class=\"dataframe\">\n",
       "  <thead>\n",
       "    <tr style=\"text-align: right;\">\n",
       "      <th></th>\n",
       "      <th>Housing</th>\n",
       "      <th>Duration</th>\n",
       "      <th>Campaign</th>\n",
       "      <th>Contact_cellular</th>\n",
       "      <th>Deposit</th>\n",
       "    </tr>\n",
       "  </thead>\n",
       "  <tbody>\n",
       "    <tr>\n",
       "      <td>0</td>\n",
       "      <td>1</td>\n",
       "      <td>1042</td>\n",
       "      <td>1</td>\n",
       "      <td>0</td>\n",
       "      <td>1</td>\n",
       "    </tr>\n",
       "    <tr>\n",
       "      <td>1</td>\n",
       "      <td>0</td>\n",
       "      <td>1467</td>\n",
       "      <td>1</td>\n",
       "      <td>0</td>\n",
       "      <td>1</td>\n",
       "    </tr>\n",
       "    <tr>\n",
       "      <td>2</td>\n",
       "      <td>1</td>\n",
       "      <td>1389</td>\n",
       "      <td>1</td>\n",
       "      <td>0</td>\n",
       "      <td>1</td>\n",
       "    </tr>\n",
       "    <tr>\n",
       "      <td>3</td>\n",
       "      <td>1</td>\n",
       "      <td>579</td>\n",
       "      <td>1</td>\n",
       "      <td>0</td>\n",
       "      <td>1</td>\n",
       "    </tr>\n",
       "    <tr>\n",
       "      <td>4</td>\n",
       "      <td>0</td>\n",
       "      <td>673</td>\n",
       "      <td>2</td>\n",
       "      <td>0</td>\n",
       "      <td>1</td>\n",
       "    </tr>\n",
       "  </tbody>\n",
       "</table>\n",
       "</div>"
      ],
      "text/plain": [
       "   Housing  Duration  Campaign  Contact_cellular  Deposit\n",
       "0        1      1042         1                 0        1\n",
       "1        0      1467         1                 0        1\n",
       "2        1      1389         1                 0        1\n",
       "3        1       579         1                 0        1\n",
       "4        0       673         2                 0        1"
      ]
     },
     "execution_count": 3,
     "metadata": {},
     "output_type": "execute_result"
    }
   ],
   "source": [
    "#With Duration\n",
    "\n",
    "columns = ['Housing','Duration','Campaign','Contact_cellular','Deposit']\n",
    "df = df.reindex(columns=columns)\n",
    "df.head()"
   ]
  },
  {
   "cell_type": "markdown",
   "metadata": {},
   "source": [
    "# Model 1 Including Duration"
   ]
  },
  {
   "cell_type": "markdown",
   "metadata": {},
   "source": [
    "# PROBIT MODEL"
   ]
  },
  {
   "cell_type": "code",
   "execution_count": 4,
   "metadata": {
    "scrolled": false
   },
   "outputs": [
    {
     "name": "stderr",
     "output_type": "stream",
     "text": [
      "C:\\Users\\Arun-Windows\\Anaconda3\\lib\\site-packages\\numpy\\core\\fromnumeric.py:2389: FutureWarning: Method .ptp is deprecated and will be removed in a future version. Use numpy.ptp instead.\n",
      "  return ptp(axis=axis, out=out, **kwargs)\n"
     ]
    },
    {
     "name": "stdout",
     "output_type": "stream",
     "text": [
      "Optimization terminated successfully.\n",
      "         Current function value: 0.507316\n",
      "         Iterations 6\n"
     ]
    },
    {
     "data": {
      "text/html": [
       "<table class=\"simpletable\">\n",
       "<caption>Probit Regression Results</caption>\n",
       "<tr>\n",
       "  <th>Dep. Variable:</th>        <td>Deposit</td>     <th>  No. Observations:  </th>  <td> 11162</td> \n",
       "</tr>\n",
       "<tr>\n",
       "  <th>Model:</th>                <td>Probit</td>      <th>  Df Residuals:      </th>  <td> 11157</td> \n",
       "</tr>\n",
       "<tr>\n",
       "  <th>Method:</th>                 <td>MLE</td>       <th>  Df Model:          </th>  <td>     4</td> \n",
       "</tr>\n",
       "<tr>\n",
       "  <th>Date:</th>            <td>Sun, 31 May 2020</td> <th>  Pseudo R-squ.:     </th>  <td>0.2666</td> \n",
       "</tr>\n",
       "<tr>\n",
       "  <th>Time:</th>                <td>10:42:06</td>     <th>  Log-Likelihood:    </th> <td> -5662.7</td>\n",
       "</tr>\n",
       "<tr>\n",
       "  <th>converged:</th>             <td>True</td>       <th>  LL-Null:           </th> <td> -7721.6</td>\n",
       "</tr>\n",
       "<tr>\n",
       "  <th>Covariance Type:</th>     <td>nonrobust</td>    <th>  LLR p-value:       </th>  <td> 0.000</td> \n",
       "</tr>\n",
       "</table>\n",
       "<table class=\"simpletable\">\n",
       "<tr>\n",
       "          <td></td>            <th>coef</th>     <th>std err</th>      <th>z</th>      <th>P>|z|</th>  <th>[0.025</th>    <th>0.975]</th>  \n",
       "</tr>\n",
       "<tr>\n",
       "  <th>const</th>            <td>   -0.9548</td> <td>    0.040</td> <td>  -24.061</td> <td> 0.000</td> <td>   -1.033</td> <td>   -0.877</td>\n",
       "</tr>\n",
       "<tr>\n",
       "  <th>Housing</th>          <td>   -0.6171</td> <td>    0.028</td> <td>  -22.194</td> <td> 0.000</td> <td>   -0.672</td> <td>   -0.563</td>\n",
       "</tr>\n",
       "<tr>\n",
       "  <th>Duration</th>         <td>    0.0025</td> <td> 5.31e-05</td> <td>   47.242</td> <td> 0.000</td> <td>    0.002</td> <td>    0.003</td>\n",
       "</tr>\n",
       "<tr>\n",
       "  <th>Campaign</th>         <td>   -0.0834</td> <td>    0.007</td> <td>  -12.504</td> <td> 0.000</td> <td>   -0.097</td> <td>   -0.070</td>\n",
       "</tr>\n",
       "<tr>\n",
       "  <th>Contact_cellular</th> <td>    0.6500</td> <td>    0.032</td> <td>   20.098</td> <td> 0.000</td> <td>    0.587</td> <td>    0.713</td>\n",
       "</tr>\n",
       "</table>"
      ],
      "text/plain": [
       "<class 'statsmodels.iolib.summary.Summary'>\n",
       "\"\"\"\n",
       "                          Probit Regression Results                           \n",
       "==============================================================================\n",
       "Dep. Variable:                Deposit   No. Observations:                11162\n",
       "Model:                         Probit   Df Residuals:                    11157\n",
       "Method:                           MLE   Df Model:                            4\n",
       "Date:                Sun, 31 May 2020   Pseudo R-squ.:                  0.2666\n",
       "Time:                        10:42:06   Log-Likelihood:                -5662.7\n",
       "converged:                       True   LL-Null:                       -7721.6\n",
       "Covariance Type:            nonrobust   LLR p-value:                     0.000\n",
       "====================================================================================\n",
       "                       coef    std err          z      P>|z|      [0.025      0.975]\n",
       "------------------------------------------------------------------------------------\n",
       "const               -0.9548      0.040    -24.061      0.000      -1.033      -0.877\n",
       "Housing             -0.6171      0.028    -22.194      0.000      -0.672      -0.563\n",
       "Duration             0.0025   5.31e-05     47.242      0.000       0.002       0.003\n",
       "Campaign            -0.0834      0.007    -12.504      0.000      -0.097      -0.070\n",
       "Contact_cellular     0.6500      0.032     20.098      0.000       0.587       0.713\n",
       "====================================================================================\n",
       "\"\"\""
      ]
     },
     "execution_count": 4,
     "metadata": {},
     "output_type": "execute_result"
    }
   ],
   "source": [
    "import statsmodels.api as sm\n",
    "\n",
    "X = df[['Housing','Duration','Campaign','Contact_cellular']]\n",
    "Y = df[\"Deposit\"]\n",
    "X = sm.add_constant(X)\n",
    "\n",
    "probit = sm.Probit(endog=Y, exog = X)\n",
    "\n",
    "result = probit.fit()\n",
    "\n",
    "result.summary()"
   ]
  },
  {
   "cell_type": "markdown",
   "metadata": {},
   "source": [
    "# LOGIT MODEL"
   ]
  },
  {
   "cell_type": "code",
   "execution_count": 8,
   "metadata": {},
   "outputs": [
    {
     "name": "stdout",
     "output_type": "stream",
     "text": [
      "Optimization terminated successfully.\n",
      "         Current function value: 0.500061\n",
      "         Iterations 7\n"
     ]
    },
    {
     "data": {
      "text/html": [
       "<table class=\"simpletable\">\n",
       "<caption>Logit Regression Results</caption>\n",
       "<tr>\n",
       "  <th>Dep. Variable:</th>        <td>Deposit</td>     <th>  No. Observations:  </th>  <td> 11162</td> \n",
       "</tr>\n",
       "<tr>\n",
       "  <th>Model:</th>                 <td>Logit</td>      <th>  Df Residuals:      </th>  <td> 11157</td> \n",
       "</tr>\n",
       "<tr>\n",
       "  <th>Method:</th>                 <td>MLE</td>       <th>  Df Model:          </th>  <td>     4</td> \n",
       "</tr>\n",
       "<tr>\n",
       "  <th>Date:</th>            <td>Fri, 29 May 2020</td> <th>  Pseudo R-squ.:     </th>  <td>0.2771</td> \n",
       "</tr>\n",
       "<tr>\n",
       "  <th>Time:</th>                <td>18:20:25</td>     <th>  Log-Likelihood:    </th> <td> -5581.7</td>\n",
       "</tr>\n",
       "<tr>\n",
       "  <th>converged:</th>             <td>True</td>       <th>  LL-Null:           </th> <td> -7721.6</td>\n",
       "</tr>\n",
       "<tr>\n",
       "  <th>Covariance Type:</th>     <td>nonrobust</td>    <th>  LLR p-value:       </th>  <td> 0.000</td> \n",
       "</tr>\n",
       "</table>\n",
       "<table class=\"simpletable\">\n",
       "<tr>\n",
       "          <td></td>            <th>coef</th>     <th>std err</th>      <th>z</th>      <th>P>|z|</th>  <th>[0.025</th>    <th>0.975]</th>  \n",
       "</tr>\n",
       "<tr>\n",
       "  <th>const</th>            <td>   -1.7073</td> <td>    0.071</td> <td>  -23.941</td> <td> 0.000</td> <td>   -1.847</td> <td>   -1.568</td>\n",
       "</tr>\n",
       "<tr>\n",
       "  <th>Housing</th>          <td>   -1.0864</td> <td>    0.048</td> <td>  -22.433</td> <td> 0.000</td> <td>   -1.181</td> <td>   -0.991</td>\n",
       "</tr>\n",
       "<tr>\n",
       "  <th>Duration</th>         <td>    0.0048</td> <td>    0.000</td> <td>   42.699</td> <td> 0.000</td> <td>    0.005</td> <td>    0.005</td>\n",
       "</tr>\n",
       "<tr>\n",
       "  <th>Campaign</th>         <td>   -0.1509</td> <td>    0.012</td> <td>  -12.162</td> <td> 0.000</td> <td>   -0.175</td> <td>   -0.127</td>\n",
       "</tr>\n",
       "<tr>\n",
       "  <th>Contact_cellular</th> <td>    1.1093</td> <td>    0.057</td> <td>   19.437</td> <td> 0.000</td> <td>    0.997</td> <td>    1.221</td>\n",
       "</tr>\n",
       "</table>"
      ],
      "text/plain": [
       "<class 'statsmodels.iolib.summary.Summary'>\n",
       "\"\"\"\n",
       "                           Logit Regression Results                           \n",
       "==============================================================================\n",
       "Dep. Variable:                Deposit   No. Observations:                11162\n",
       "Model:                          Logit   Df Residuals:                    11157\n",
       "Method:                           MLE   Df Model:                            4\n",
       "Date:                Fri, 29 May 2020   Pseudo R-squ.:                  0.2771\n",
       "Time:                        18:20:25   Log-Likelihood:                -5581.7\n",
       "converged:                       True   LL-Null:                       -7721.6\n",
       "Covariance Type:            nonrobust   LLR p-value:                     0.000\n",
       "====================================================================================\n",
       "                       coef    std err          z      P>|z|      [0.025      0.975]\n",
       "------------------------------------------------------------------------------------\n",
       "const               -1.7073      0.071    -23.941      0.000      -1.847      -1.568\n",
       "Housing             -1.0864      0.048    -22.433      0.000      -1.181      -0.991\n",
       "Duration             0.0048      0.000     42.699      0.000       0.005       0.005\n",
       "Campaign            -0.1509      0.012    -12.162      0.000      -0.175      -0.127\n",
       "Contact_cellular     1.1093      0.057     19.437      0.000       0.997       1.221\n",
       "====================================================================================\n",
       "\"\"\""
      ]
     },
     "execution_count": 8,
     "metadata": {},
     "output_type": "execute_result"
    }
   ],
   "source": [
    "X = df[['Housing','Duration','Campaign','Contact_cellular']]\n",
    "Y = df[\"Deposit\"]\n",
    "X = sm.add_constant(X)\n",
    "\n",
    "logit = sm.Logit(endog=Y, exog = X)\n",
    "\n",
    "result = logit.fit()\n",
    "\n",
    "result.summary()"
   ]
  },
  {
   "cell_type": "code",
   "execution_count": 5,
   "metadata": {},
   "outputs": [],
   "source": [
    "#Using Sklearn for plotting roc\n",
    "from sklearn.linear_model import LogisticRegression\n",
    "classifier = LogisticRegression(random_state = 0)\n",
    "classifier.fit(X, Y)\n",
    "\n",
    "y_pred = classifier.predict(X)\n"
   ]
  },
  {
   "cell_type": "code",
   "execution_count": 6,
   "metadata": {},
   "outputs": [
    {
     "data": {
      "image/png": "[encoded data removed]",
      "text/plain": [
       "<Figure size 432x288 with 2 Axes>"
      ]
     },
     "metadata": {
      "needs_background": "light"
     },
     "output_type": "display_data"
    }
   ],
   "source": [
    "from sklearn.metrics import plot_confusion_matrix\n",
    "plot_confusion_matrix(classifier, X, Y , cmap='PuBuGn')  # doctest: +SKIP\n",
    "plt.show()"
   ]
  },
  {
   "cell_type": "code",
   "execution_count": 10,
   "metadata": {},
   "outputs": [
    {
     "data": {
      "text/plain": [
       "0.7702920623544167"
      ]
     },
     "execution_count": 10,
     "metadata": {},
     "output_type": "execute_result"
    }
   ],
   "source": [
    "from sklearn.metrics import accuracy_score\n",
    "accuracy_score(Y, classifier.predict(X))"
   ]
  },
  {
   "cell_type": "code",
   "execution_count": 11,
   "metadata": {},
   "outputs": [
    {
     "data": {
      "image/png": "[encoded data removed]",
      "text/plain": [
       "<Figure size 432x288 with 1 Axes>"
      ]
     },
     "metadata": {
      "needs_background": "light"
     },
     "output_type": "display_data"
    }
   ],
   "source": [
    "#ROC curve code\n",
    "import sklearn.metrics as metrics\n",
    "\n",
    "probs = classifier.predict_proba(X)\n",
    "preds = probs[:,1]\n",
    "\n",
    "fpr, tpr, threshold = metrics.roc_curve(Y, preds)\n",
    "roc_auc = metrics.auc(fpr, tpr)\n",
    "\n",
    "\n",
    "import matplotlib.pyplot as plt\n",
    "plt.title('Receiver Operating Characteristic')\n",
    "plt.plot(fpr, tpr, 'b', label = 'AUC = %0.2f' % roc_auc)\n",
    "plt.legend(loc = 'lower right')\n",
    "\n",
    "plt.plot([0, 1], [0, 1],'r--')\n",
    "plt.xlim([0, 1])\n",
    "plt.ylim([0.0, 1.05])\n",
    "plt.ylabel('True Positive Rate')\n",
    "plt.xlabel('False Positive Rate')\n",
    "plt.show()"
   ]
  },
  {
   "cell_type": "markdown",
   "metadata": {},
   "source": [
    "# Model 2 without Duration"
   ]
  },
  {
   "cell_type": "markdown",
   "metadata": {},
   "source": [
    "# PROBIT MODEL"
   ]
  },
  {
   "cell_type": "code",
   "execution_count": 8,
   "metadata": {},
   "outputs": [
    {
     "name": "stderr",
     "output_type": "stream",
     "text": [
      "C:\\Users\\Arun-Windows\\Anaconda3\\lib\\site-packages\\numpy\\core\\fromnumeric.py:2389: FutureWarning: Method .ptp is deprecated and will be removed in a future version. Use numpy.ptp instead.\n",
      "  return ptp(axis=axis, out=out, **kwargs)\n"
     ]
    },
    {
     "name": "stdout",
     "output_type": "stream",
     "text": [
      "Optimization terminated successfully.\n",
      "         Current function value: 0.629926\n",
      "         Iterations 5\n"
     ]
    },
    {
     "data": {
      "text/html": [
       "<table class=\"simpletable\">\n",
       "<caption>Probit Regression Results</caption>\n",
       "<tr>\n",
       "  <th>Dep. Variable:</th>        <td>Deposit</td>     <th>  No. Observations:  </th>   <td> 11162</td>  \n",
       "</tr>\n",
       "<tr>\n",
       "  <th>Model:</th>                <td>Probit</td>      <th>  Df Residuals:      </th>   <td> 11154</td>  \n",
       "</tr>\n",
       "<tr>\n",
       "  <th>Method:</th>                 <td>MLE</td>       <th>  Df Model:          </th>   <td>     7</td>  \n",
       "</tr>\n",
       "<tr>\n",
       "  <th>Date:</th>            <td>Wed, 03 Jun 2020</td> <th>  Pseudo R-squ.:     </th>   <td>0.08941</td> \n",
       "</tr>\n",
       "<tr>\n",
       "  <th>Time:</th>                <td>19:32:10</td>     <th>  Log-Likelihood:    </th>  <td> -7031.2</td> \n",
       "</tr>\n",
       "<tr>\n",
       "  <th>converged:</th>             <td>True</td>       <th>  LL-Null:           </th>  <td> -7721.6</td> \n",
       "</tr>\n",
       "<tr>\n",
       "  <th>Covariance Type:</th>     <td>nonrobust</td>    <th>  LLR p-value:       </th> <td>5.557e-294</td>\n",
       "</tr>\n",
       "</table>\n",
       "<table class=\"simpletable\">\n",
       "<tr>\n",
       "           <td></td>              <th>coef</th>     <th>std err</th>      <th>z</th>      <th>P>|z|</th>  <th>[0.025</th>    <th>0.975]</th>  \n",
       "</tr>\n",
       "<tr>\n",
       "  <th>const</th>               <td>    0.0102</td> <td>    0.056</td> <td>    0.182</td> <td> 0.856</td> <td>   -0.100</td> <td>    0.120</td>\n",
       "</tr>\n",
       "<tr>\n",
       "  <th>Education</th>           <td>    0.0743</td> <td>    0.018</td> <td>    4.110</td> <td> 0.000</td> <td>    0.039</td> <td>    0.110</td>\n",
       "</tr>\n",
       "<tr>\n",
       "  <th>Campaign</th>            <td>   -0.0500</td> <td>    0.006</td> <td>   -9.061</td> <td> 0.000</td> <td>   -0.061</td> <td>   -0.039</td>\n",
       "</tr>\n",
       "<tr>\n",
       "  <th>Housing</th>             <td>   -0.4121</td> <td>    0.025</td> <td>  -16.427</td> <td> 0.000</td> <td>   -0.461</td> <td>   -0.363</td>\n",
       "</tr>\n",
       "<tr>\n",
       "  <th>Contact_cellular</th>    <td>    0.4342</td> <td>    0.030</td> <td>   14.707</td> <td> 0.000</td> <td>    0.376</td> <td>    0.492</td>\n",
       "</tr>\n",
       "<tr>\n",
       "  <th>First half of month</th> <td>    0.2011</td> <td>    0.025</td> <td>    7.996</td> <td> 0.000</td> <td>    0.152</td> <td>    0.250</td>\n",
       "</tr>\n",
       "<tr>\n",
       "  <th>Married</th>             <td>   -0.1785</td> <td>    0.025</td> <td>   -7.114</td> <td> 0.000</td> <td>   -0.228</td> <td>   -0.129</td>\n",
       "</tr>\n",
       "<tr>\n",
       "  <th>Season_2</th>            <td>   -0.3775</td> <td>    0.027</td> <td>  -13.879</td> <td> 0.000</td> <td>   -0.431</td> <td>   -0.324</td>\n",
       "</tr>\n",
       "</table>"
      ],
      "text/plain": [
       "<class 'statsmodels.iolib.summary.Summary'>\n",
       "\"\"\"\n",
       "                          Probit Regression Results                           \n",
       "==============================================================================\n",
       "Dep. Variable:                Deposit   No. Observations:                11162\n",
       "Model:                         Probit   Df Residuals:                    11154\n",
       "Method:                           MLE   Df Model:                            7\n",
       "Date:                Wed, 03 Jun 2020   Pseudo R-squ.:                 0.08941\n",
       "Time:                        19:32:10   Log-Likelihood:                -7031.2\n",
       "converged:                       True   LL-Null:                       -7721.6\n",
       "Covariance Type:            nonrobust   LLR p-value:                5.557e-294\n",
       "=======================================================================================\n",
       "                          coef    std err          z      P>|z|      [0.025      0.975]\n",
       "---------------------------------------------------------------------------------------\n",
       "const                   0.0102      0.056      0.182      0.856      -0.100       0.120\n",
       "Education               0.0743      0.018      4.110      0.000       0.039       0.110\n",
       "Campaign               -0.0500      0.006     -9.061      0.000      -0.061      -0.039\n",
       "Housing                -0.4121      0.025    -16.427      0.000      -0.461      -0.363\n",
       "Contact_cellular        0.4342      0.030     14.707      0.000       0.376       0.492\n",
       "First half of month     0.2011      0.025      7.996      0.000       0.152       0.250\n",
       "Married                -0.1785      0.025     -7.114      0.000      -0.228      -0.129\n",
       "Season_2               -0.3775      0.027    -13.879      0.000      -0.431      -0.324\n",
       "=======================================================================================\n",
       "\"\"\""
      ]
     },
     "execution_count": 8,
     "metadata": {},
     "output_type": "execute_result"
    }
   ],
   "source": [
    "import statsmodels.api as sm\n",
    "\n",
    "X = df[['Education','Campaign','Housing','Contact_cellular','First half of month','Married','Season_2']]\n",
    "Y = df[\"Deposit\"]\n",
    "X = sm.add_constant(X)\n",
    "\n",
    "probit = sm.Probit(endog=Y, exog = X)\n",
    "\n",
    "result = probit.fit()\n",
    "\n",
    "result.summary()"
   ]
  },
  {
   "cell_type": "markdown",
   "metadata": {},
   "source": [
    "# LOGIT MODEL"
   ]
  },
  {
   "cell_type": "code",
   "execution_count": 3,
   "metadata": {},
   "outputs": [
    {
     "name": "stderr",
     "output_type": "stream",
     "text": [
      "C:\\Users\\Arun-Windows\\Anaconda3\\lib\\site-packages\\numpy\\core\\fromnumeric.py:2389: FutureWarning: Method .ptp is deprecated and will be removed in a future version. Use numpy.ptp instead.\n",
      "  return ptp(axis=axis, out=out, **kwargs)\n"
     ]
    },
    {
     "name": "stdout",
     "output_type": "stream",
     "text": [
      "Optimization terminated successfully.\n",
      "         Current function value: 0.629599\n",
      "         Iterations 5\n"
     ]
    },
    {
     "data": {
      "text/html": [
       "<table class=\"simpletable\">\n",
       "<caption>Logit Regression Results</caption>\n",
       "<tr>\n",
       "  <th>Dep. Variable:</th>        <td>Deposit</td>     <th>  No. Observations:  </th>   <td> 11162</td>  \n",
       "</tr>\n",
       "<tr>\n",
       "  <th>Model:</th>                 <td>Logit</td>      <th>  Df Residuals:      </th>   <td> 11154</td>  \n",
       "</tr>\n",
       "<tr>\n",
       "  <th>Method:</th>                 <td>MLE</td>       <th>  Df Model:          </th>   <td>     7</td>  \n",
       "</tr>\n",
       "<tr>\n",
       "  <th>Date:</th>            <td>Wed, 03 Jun 2020</td> <th>  Pseudo R-squ.:     </th>   <td>0.08988</td> \n",
       "</tr>\n",
       "<tr>\n",
       "  <th>Time:</th>                <td>19:30:51</td>     <th>  Log-Likelihood:    </th>  <td> -7027.6</td> \n",
       "</tr>\n",
       "<tr>\n",
       "  <th>converged:</th>             <td>True</td>       <th>  LL-Null:           </th>  <td> -7721.6</td> \n",
       "</tr>\n",
       "<tr>\n",
       "  <th>Covariance Type:</th>     <td>nonrobust</td>    <th>  LLR p-value:       </th> <td>1.463e-295</td>\n",
       "</tr>\n",
       "</table>\n",
       "<table class=\"simpletable\">\n",
       "<tr>\n",
       "           <td></td>              <th>coef</th>     <th>std err</th>      <th>z</th>      <th>P>|z|</th>  <th>[0.025</th>    <th>0.975]</th>  \n",
       "</tr>\n",
       "<tr>\n",
       "  <th>const</th>               <td>    0.0192</td> <td>    0.092</td> <td>    0.210</td> <td> 0.834</td> <td>   -0.160</td> <td>    0.199</td>\n",
       "</tr>\n",
       "<tr>\n",
       "  <th>Education</th>           <td>    0.1225</td> <td>    0.030</td> <td>    4.147</td> <td> 0.000</td> <td>    0.065</td> <td>    0.180</td>\n",
       "</tr>\n",
       "<tr>\n",
       "  <th>Campaign</th>            <td>   -0.0884</td> <td>    0.010</td> <td>   -9.058</td> <td> 0.000</td> <td>   -0.108</td> <td>   -0.069</td>\n",
       "</tr>\n",
       "<tr>\n",
       "  <th>Housing</th>             <td>   -0.6782</td> <td>    0.041</td> <td>  -16.570</td> <td> 0.000</td> <td>   -0.758</td> <td>   -0.598</td>\n",
       "</tr>\n",
       "<tr>\n",
       "  <th>Contact_cellular</th>    <td>    0.7124</td> <td>    0.049</td> <td>   14.640</td> <td> 0.000</td> <td>    0.617</td> <td>    0.808</td>\n",
       "</tr>\n",
       "<tr>\n",
       "  <th>First half of month</th> <td>    0.3323</td> <td>    0.041</td> <td>    8.053</td> <td> 0.000</td> <td>    0.251</td> <td>    0.413</td>\n",
       "</tr>\n",
       "<tr>\n",
       "  <th>Married</th>             <td>   -0.2909</td> <td>    0.041</td> <td>   -7.084</td> <td> 0.000</td> <td>   -0.371</td> <td>   -0.210</td>\n",
       "</tr>\n",
       "<tr>\n",
       "  <th>Season_2</th>            <td>   -0.6091</td> <td>    0.044</td> <td>  -13.753</td> <td> 0.000</td> <td>   -0.696</td> <td>   -0.522</td>\n",
       "</tr>\n",
       "</table>"
      ],
      "text/plain": [
       "<class 'statsmodels.iolib.summary.Summary'>\n",
       "\"\"\"\n",
       "                           Logit Regression Results                           \n",
       "==============================================================================\n",
       "Dep. Variable:                Deposit   No. Observations:                11162\n",
       "Model:                          Logit   Df Residuals:                    11154\n",
       "Method:                           MLE   Df Model:                            7\n",
       "Date:                Wed, 03 Jun 2020   Pseudo R-squ.:                 0.08988\n",
       "Time:                        19:30:51   Log-Likelihood:                -7027.6\n",
       "converged:                       True   LL-Null:                       -7721.6\n",
       "Covariance Type:            nonrobust   LLR p-value:                1.463e-295\n",
       "=======================================================================================\n",
       "                          coef    std err          z      P>|z|      [0.025      0.975]\n",
       "---------------------------------------------------------------------------------------\n",
       "const                   0.0192      0.092      0.210      0.834      -0.160       0.199\n",
       "Education               0.1225      0.030      4.147      0.000       0.065       0.180\n",
       "Campaign               -0.0884      0.010     -9.058      0.000      -0.108      -0.069\n",
       "Housing                -0.6782      0.041    -16.570      0.000      -0.758      -0.598\n",
       "Contact_cellular        0.7124      0.049     14.640      0.000       0.617       0.808\n",
       "First half of month     0.3323      0.041      8.053      0.000       0.251       0.413\n",
       "Married                -0.2909      0.041     -7.084      0.000      -0.371      -0.210\n",
       "Season_2               -0.6091      0.044    -13.753      0.000      -0.696      -0.522\n",
       "=======================================================================================\n",
       "\"\"\""
      ]
     },
     "execution_count": 3,
     "metadata": {},
     "output_type": "execute_result"
    }
   ],
   "source": [
    "import statsmodels.api as sm\n",
    "\n",
    "X = df[['Education','Campaign','Housing','Contact_cellular','First half of month','Married','Season_2']]\n",
    "Y = df[\"Deposit\"]\n",
    "X = sm.add_constant(X)\n",
    "\n",
    "logit = sm.Logit(endog=Y, exog = X)\n",
    "\n",
    "result = logit.fit()\n",
    "\n",
    "result.summary()"
   ]
  },
  {
   "cell_type": "code",
   "execution_count": 4,
   "metadata": {},
   "outputs": [],
   "source": [
    "#Using Sklearn for plotting roc\n",
    "from sklearn.linear_model import LogisticRegression\n",
    "classifier = LogisticRegression(random_state = 0)\n",
    "classifier.fit(X, Y)\n",
    "\n",
    "y_pred = classifier.predict(X)"
   ]
  },
  {
   "cell_type": "code",
   "execution_count": 5,
   "metadata": {},
   "outputs": [
    {
     "data": {
      "image/png": "[encoded data removed]",
      "text/plain": [
       "<Figure size 432x288 with 2 Axes>"
      ]
     },
     "metadata": {
      "needs_background": "light"
     },
     "output_type": "display_data"
    }
   ],
   "source": [
    "from sklearn.metrics import plot_confusion_matrix\n",
    "plot_confusion_matrix(classifier, X, Y , cmap='PuBuGn')  # doctest: +SKIP\n",
    "plt.show()"
   ]
  },
  {
   "cell_type": "code",
   "execution_count": 6,
   "metadata": {},
   "outputs": [
    {
     "data": {
      "text/plain": [
       "0.648629277907185"
      ]
     },
     "execution_count": 6,
     "metadata": {},
     "output_type": "execute_result"
    }
   ],
   "source": [
    "from sklearn.metrics import accuracy_score\n",
    "accuracy_score(Y, classifier.predict(X))"
   ]
  },
  {
   "cell_type": "code",
   "execution_count": 7,
   "metadata": {},
   "outputs": [
    {
     "data": {
      "image/png": "[encoded data removed]",
      "text/plain": [
       "<Figure size 432x288 with 1 Axes>"
      ]
     },
     "metadata": {
      "needs_background": "light"
     },
     "output_type": "display_data"
    }
   ],
   "source": [
    "#ROC curve code\n",
    "import sklearn.metrics as metrics\n",
    "\n",
    "probs = classifier.predict_proba(X)\n",
    "preds = probs[:,1]\n",
    "\n",
    "fpr, tpr, threshold = metrics.roc_curve(Y, preds)\n",
    "roc_auc = metrics.auc(fpr, tpr)\n",
    "\n",
    "\n",
    "import matplotlib.pyplot as plt\n",
    "plt.title('Receiver Operating Characteristic')\n",
    "plt.plot(fpr, tpr, 'b', label = 'AUC = %0.2f' % roc_auc)\n",
    "plt.legend(loc = 'lower right')\n",
    "\n",
    "plt.plot([0, 1], [0, 1],'r--')\n",
    "plt.xlim([0, 1])\n",
    "plt.ylim([0.0, 1.05])\n",
    "plt.ylabel('True Positive Rate')\n",
    "plt.xlabel('False Positive Rate')\n",
    "plt.show()"
   ]
  }
 ],
 "metadata": {
  "kernelspec": {
   "display_name": "Python 3",
   "language": "python",
   "name": "python3"
  },
  "language_info": {
   "codemirror_mode": {
    "name": "ipython",
    "version": 3
   },
   "file_extension": ".py",
   "mimetype": "text/x-python",
   "name": "python",
   "nbconvert_exporter": "python",
   "pygments_lexer": "ipython3",
   "version": "3.7.4"
  }
 },
 "nbformat": 4,
 "nbformat_minor": 2
}
